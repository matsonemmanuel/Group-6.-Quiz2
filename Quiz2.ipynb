{
 "cells": [
  {
   "cell_type": "code",
   "execution_count": 1,
   "id": "a66d1de2",
   "metadata": {},
   "outputs": [
    {
     "name": "stdout",
     "output_type": "stream",
     "text": [
      "{'A': 2, 'B': 2, 'C': 1, 'D': 1, 'F': 2}\n"
     ]
    }
   ],
   "source": [
    "def classify_grades(scores):\n",
    "    grade_counts = {'A': 0, 'B': 0,'C': 0, 'D': 0, 'F':0}\n",
    "\n",
    "    for score in scores:\n",
    "        if 90 <= score <= 100:\n",
    "           grade_counts['A'] += 1\n",
    "        elif 80 <= score <= 90:\n",
    "          grade_counts['B'] += 1\n",
    "        elif 70 <= score <= 80:\n",
    "          grade_counts['C'] += 1\n",
    "        elif 60 <= score <= 70:\n",
    "          grade_counts['D'] += 1\n",
    "        else:\n",
    "          grade_counts['F'] += 1\n",
    "\n",
    "    return grade_counts\n",
    "\n",
    "scores = [85,92,45,74,60,99,45,80]\n",
    "print(classify_grades(scores))\n"
   ]
  },
  {
   "cell_type": "code",
   "execution_count": 2,
   "id": "09c16949",
   "metadata": {},
   "outputs": [
    {
     "name": "stdout",
     "output_type": "stream",
     "text": [
      "First 10 prime numbers: [2, 3, 5, 7, 11, 13, 17, 19, 23, 29]\n"
     ]
    }
   ],
   "source": [
    "primes = [] # Initalizing an empty list to store prime numbers\n",
    "num = 2 # Starting from the first prime number\n",
    "while len(primes) < 10:\n",
    "  is_prime = True # Assume the number is prime until proven otherwise\n",
    "  # checking if num is divisible by any number from 2 to 1\n",
    "\n",
    "  for i in range(2, int(num**0.5) + 1):\n",
    "    if num % i == 0:\n",
    "      is_prime = False # num is not prime\n",
    "      break\n",
    "\n",
    "  if is_prime:\n",
    "    primes.append(num)\n",
    "\n",
    "  num += 1 # Move to the next number\n",
    "print(\"First 10 prime numbers:\", primes)\n"
   ]
  },
  {
   "cell_type": "code",
   "execution_count": 1,
   "id": "1dc13d1a",
   "metadata": {},
   "outputs": [
    {
     "name": "stdout",
     "output_type": "stream",
     "text": [
      "Valid password\n"
     ]
    }
   ],
   "source": [
    "import re\n",
    "\n",
    "\n",
    "def is_valid_password(password):\n",
    "  #check length\n",
    "\n",
    "  if len(password) < 8:\n",
    "    return False\n",
    "  \n",
    "  #check for the least one uppercase letter\n",
    "  if not re.search(r\"[A-Z]\", password):\n",
    "    return False\n",
    "  \n",
    "  #check for at least one digit\n",
    "\n",
    "  if not re.search(r\"\\d\", password):\n",
    "    return False\n",
    "  \n",
    "  #check for at least one special character.\n",
    "  if not re.search(r\"[!@#$%^&*]\", password):\n",
    "    return False\n",
    "  \n",
    "\n",
    "  return True\n",
    "password = input(\"Enter a password: \")\n",
    "if is_valid_password(password):\n",
    "  print(\"Valid password\")\n",
    "else:\n",
    "  print(\"Invalid password\")"
   ]
  },
  {
   "cell_type": "code",
   "execution_count": 1,
   "id": "d4e4a14b",
   "metadata": {},
   "outputs": [
    {
     "name": "stdout",
     "output_type": "stream",
     "text": [
      "1 \n",
      "2 4 \n",
      "3 6 9 \n",
      "4 8 12 16 \n"
     ]
    }
   ],
   "source": [
    "for i in range(1,5):\n",
    "    for j in range(1,i + 1):\n",
    "        print(i*j, end=\" \")\n",
    "    print()"
   ]
  },
  {
   "cell_type": "code",
   "execution_count": 1,
   "id": "9d38667a",
   "metadata": {},
   "outputs": [
    {
     "name": "stdout",
     "output_type": "stream",
     "text": [
      "True\n",
      "True\n",
      "False\n"
     ]
    }
   ],
   "source": [
    "def is_palidronme(word):\n",
    "\n",
    "  # Normalize the word by removing spaces and converting to lowercase\n",
    "\n",
    "  clean_word = word.replace(\" \", \"\").lower()\n",
    "\n",
    "  # use a loop to check characters from both ends of the word\n",
    "\n",
    "  for i in range(len(clean_word)//2):\n",
    "    if clean_word[i] != clean_word[-(i+1)]:\n",
    "      return False\n",
    "  return True\n",
    "\n",
    "print(is_palidronme(\"RaceCar\"))\n",
    "print(is_palidronme(\"A man a plan a canal Panama\"))\n",
    "print(is_palidronme(\"Hello World\"))"
   ]
  },
  {
   "cell_type": "markdown",
   "id": "4b44176c",
   "metadata": {},
   "source": [
    "Contributors.\n",
    "\n",
    "Emmanuel Mateso.         673379\n",
    "Abdi Mohamud Dakane.     673007\n",
    "Merfi Yussuf Hassan.     673031\n",
    "Peninah Etabo Lowuokol. 673731\n",
    "Austin Odhiambo.         673676\n",
    "Abdimajid Omar.          673937"
   ]
  }
 ],
 "metadata": {
  "kernelspec": {
   "display_name": "Python 3",
   "language": "python",
   "name": "python3"
  },
  "language_info": {
   "codemirror_mode": {
    "name": "ipython",
    "version": 3
   },
   "file_extension": ".py",
   "mimetype": "text/x-python",
   "name": "python",
   "nbconvert_exporter": "python",
   "pygments_lexer": "ipython3",
   "version": "3.13.2"
  }
 },
 "nbformat": 4,
 "nbformat_minor": 5
}
